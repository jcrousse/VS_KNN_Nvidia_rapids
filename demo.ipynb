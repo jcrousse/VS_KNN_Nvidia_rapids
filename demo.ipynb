{
 "cells": [
  {
   "cell_type": "code",
   "execution_count": 1,
   "id": "4e275680",
   "metadata": {},
   "outputs": [],
   "source": [
    "import cudf\n",
    "import os\n",
    "import cupy as cp\n",
    "from vs_knn.vs_knn import CupyVsKnnModel\n",
    "import gc\n",
    "import time\n",
    "from tqdm import tqdm\n",
    "import sys\n",
    "import asyncio\n",
    "import nest_asyncio\n",
    "nest_asyncio.apply()"
   ]
  },
  {
   "cell_type": "code",
   "execution_count": 5,
   "id": "01b2d4f0-669b-46f9-ac1a-571be32eaebf",
   "metadata": {},
   "outputs": [
    {
     "name": "stdout",
     "output_type": "stream",
     "text": [
      "Requirement already satisfied: wget in /opt/conda/envs/rapids/lib/python3.7/site-packages (3.2)\n",
      "\u001b[33mWARNING: Running pip as the 'root' user can result in broken permissions and conflicting behaviour with the system package manager. It is recommended to use a virtual environment instead: https://pip.pypa.io/warnings/venv\u001b[0m\n"
     ]
    }
   ],
   "source": [
    "!pip install wget  # wget missing from the docker image"
   ]
  },
  {
   "cell_type": "code",
   "execution_count": 6,
   "id": "f5dbf284",
   "metadata": {},
   "outputs": [],
   "source": [
    "from wget import download"
   ]
  },
  {
   "cell_type": "markdown",
   "id": "41a2b4f2",
   "metadata": {},
   "source": [
    "## Dataset: RSC15 \"*Yoochoose*\" data\n",
    "We are going to illustrate the algorithm on the public *RSC15* e-commerce dataset, as it is one of the largest publicly available"
   ]
  },
  {
   "cell_type": "code",
   "execution_count": null,
   "id": "0bbec366-fc6c-4978-a492-b4b5871bc69d",
   "metadata": {},
   "outputs": [
    {
     "name": "stdout",
     "output_type": "stream",
     "text": [
      "Downloading: 99% [1480630272 / 1486798186] bytes"
     ]
    }
   ],
   "source": [
    "dataset_filepath = 'archive/yoochoose-clicks.dat'\n",
    "\n",
    "def bar_progress(current, total, width=80):\n",
    "    progress_message = \"Downloading: %d%% [%d / %d] bytes\" % (current / total * 100, current, total)\n",
    "    sys.stdout.write(\"\\r\" + progress_message)\n",
    "    sys.stdout.flush()\n",
    "    \n",
    "\n",
    "if not os.path.isfile(dataset_filepath):\n",
    "    download(\"https://storage.googleapis.com/jcrousse-vsknn-rapids/yoochoose-clicks.dat\", out=dataset_filepath, bar=bar_progress)"
   ]
  },
  {
   "cell_type": "code",
   "execution_count": 2,
   "id": "2c868c8e",
   "metadata": {},
   "outputs": [],
   "source": []
  },
  {
   "cell_type": "code",
   "execution_count": 2,
   "id": "ac8b1eb1",
   "metadata": {},
   "outputs": [],
   "source": [
    "def read_dataset(filepath, columns=None, delimiter=','):\n",
    "    import cudf\n",
    "    columns = ['session_id', 'timestamp', 'item_id'] if columns is None else columns\n",
    "    return cudf.read_csv(filepath,\n",
    "                         usecols=[0, 1, 2],\n",
    "                         dtype={\n",
    "                             'session_id': cp.dtype('int32'),\n",
    "                             'item_id': cp.dtype('int32'),\n",
    "                             'timestamp': cp.dtype('O')\n",
    "                         },\n",
    "                         delimiter=delimiter,\n",
    "                         names=columns)\n"
   ]
  },
  {
   "cell_type": "code",
   "execution_count": 3,
   "id": "1bcf7345-6804-4b35-862a-d5e833d30ebd",
   "metadata": {},
   "outputs": [],
   "source": [
    "dataset_filepath = 'archive/yoochoose-clicks.dat'\n",
    "\n",
    "yoochoose_data = read_dataset(dataset_filepath)"
   ]
  },
  {
   "cell_type": "code",
   "execution_count": 4,
   "id": "38dbc467",
   "metadata": {},
   "outputs": [
    {
     "name": "stdout",
     "output_type": "stream",
     "text": [
      "the dataset contains 33M rows,  with 9M  sessions and 53K items \n",
      "Original file size: 1487Mb\n"
     ]
    }
   ],
   "source": [
    "n_rows = yoochoose_data.shape[0]\n",
    "n_sessions = len(yoochoose_data['session_id'].unique())\n",
    "n_items = len(yoochoose_data['item_id'].unique())\n",
    "filesize = os.path.getsize(dataset_filepath)\n",
    "\n",
    "print(f\"the dataset contains {round(n_rows / 10 ** 6)}M rows, \", \n",
    "      f\"with {round(n_sessions / 10 ** 6)}M \", \n",
    "      f\"sessions and {round(n_items / 10 ** 3)}K items\",\n",
    "      f\"\\nOriginal file size: {round(filesize / 10 ** 6)}Mb\")"
   ]
  },
  {
   "cell_type": "markdown",
   "id": "e7a54028",
   "metadata": {
    "pycharm": {
     "name": "#%% md\n"
    }
   },
   "source": [
    "## Data Format\n",
    "Internally, the model keeps various arrays of values per `item_id` and `session_id`. It uses integer values between 1 and *N_items* to represent `item_id` (between 1 and *N_sessions* to represent`session_id`).\n",
    "The conversion from original `item_id` and `session_id` in the dataset to integers is handled automatically.\n",
    " Note that it offers superior performances when converting integers rather than strings.\n",
    "It is therefore recommended to use integers for `item_id` and `session_id` in your dataset.\n"
   ]
  },
  {
   "cell_type": "markdown",
   "id": "3e548c0b",
   "metadata": {},
   "source": [
    "## Train test split\n",
    "The dataset covers 183 days, we will use the first 180 days as train set, and the remaining 3 days as test set"
   ]
  },
  {
   "cell_type": "code",
   "execution_count": 5,
   "id": "9c8fbb57",
   "metadata": {},
   "outputs": [],
   "source": [
    "yoochoose_data['day'] = yoochoose_data['timestamp'].str.slice(start=0, stop=10)"
   ]
  },
  {
   "cell_type": "code",
   "execution_count": 6,
   "id": "3c7da77d",
   "metadata": {},
   "outputs": [
    {
     "name": "stdout",
     "output_type": "stream",
     "text": [
      "0      2014-04-01\n",
      "1      2014-04-02\n",
      "2      2014-04-03\n",
      "3      2014-04-04\n",
      "4      2014-04-05\n",
      "          ...    \n",
      "178    2014-09-26\n",
      "179    2014-09-27\n",
      "180    2014-09-28\n",
      "181    2014-09-29\n",
      "182    2014-09-30\n",
      "Name: day, Length: 183, dtype: object\n"
     ]
    }
   ],
   "source": [
    "all_days = yoochoose_data['day'].unique()\n",
    "train_days = all_days[0:180]\n",
    "print(all_days)"
   ]
  },
  {
   "cell_type": "code",
   "execution_count": 7,
   "id": "f2c4a0ed",
   "metadata": {},
   "outputs": [],
   "source": [
    "train_df = yoochoose_data[yoochoose_data['day'].isin(train_days)][['session_id', 'timestamp', 'item_id']]\n",
    "test_df = yoochoose_data[~yoochoose_data['day'].isin(train_days)][['session_id', 'timestamp', 'item_id']]"
   ]
  },
  {
   "cell_type": "code",
   "execution_count": 8,
   "id": "c69175e7",
   "metadata": {},
   "outputs": [],
   "source": [
    "del yoochoose_data\n",
    "gc.collect()\n",
    "mempool = cp.get_default_memory_pool()\n",
    "mempool.free_all_blocks()"
   ]
  },
  {
   "cell_type": "markdown",
   "id": "662620e2",
   "metadata": {},
   "source": [
    "## Model train\n",
    "training the model"
   ]
  },
  {
   "cell_type": "code",
   "execution_count": 9,
   "id": "eed94b4e",
   "metadata": {},
   "outputs": [],
   "source": [
    "model = CupyVsKnnModel(top_k=100, max_sessions_per_items=5000, max_item_per_session=10)"
   ]
  },
  {
   "cell_type": "code",
   "execution_count": 10,
   "id": "a5661752",
   "metadata": {},
   "outputs": [
    {
     "name": "stdout",
     "output_type": "stream",
     "text": [
      "Device memory footprint for index objects: 202.53 Mb)\n",
      "trained the model in 6.029950380325317 seconds\n"
     ]
    }
   ],
   "source": [
    "start = time.time()\n",
    "\n",
    "model.train(train_df)\n",
    "\n",
    "end = time.time()\n",
    "print(f\"trained the model in {end - start} seconds\")"
   ]
  },
  {
   "cell_type": "markdown",
   "id": "8b5a3d97",
   "metadata": {},
   "source": [
    "## Testing the model \n",
    "- set last element of each test session to the target\n",
    "- Run the model for each test session\n",
    "- Calculate HR@20 per session"
   ]
  },
  {
   "cell_type": "code",
   "execution_count": 11,
   "id": "ae2f81d0",
   "metadata": {},
   "outputs": [],
   "source": [
    "# removing test items that are unseen at train\n",
    "# items_train = set(train_data['item_id'].unique())\n",
    "# test_df = test_df[test_df['item_id'].isin(items_train)]"
   ]
  },
  {
   "cell_type": "code",
   "execution_count": 12,
   "id": "1fb6b82d",
   "metadata": {},
   "outputs": [],
   "source": [
    "def get_test_examples(test_set):\n",
    "    test_array = test_set \\\n",
    "        .drop('timestamp', axis=1) \\\n",
    "        .groupby('session_id') \\\n",
    "        .agg({'item_id': 'collect'})['item_id']\\\n",
    "        .to_pandas()\\\n",
    "        .values\n",
    "    return test_array"
   ]
  },
  {
   "cell_type": "code",
   "execution_count": 13,
   "id": "63f2828a",
   "metadata": {},
   "outputs": [],
   "source": [
    "test_sessions_array = get_test_examples(test_df)"
   ]
  },
  {
   "cell_type": "code",
   "execution_count": 14,
   "id": "2d1971d4",
   "metadata": {},
   "outputs": [],
   "source": [
    "def session_to_xy(items_in_session):\n",
    "    return (items_in_session[0:-1], items_in_session[-1]) if len(items_in_session) > 1 else (None, None)"
   ]
  },
  {
   "cell_type": "code",
   "execution_count": 15,
   "id": "aebe8299",
   "metadata": {},
   "outputs": [],
   "source": [
    "def test_a_model(model, test_data):\n",
    "    \n",
    "    total_hits = 0\n",
    "    n_treated = 0\n",
    "    hr20 = 0\n",
    "    \n",
    "    pbar = tqdm(test_data)\n",
    "    \n",
    "    total_cpu = []\n",
    "    total_gpu = []\n",
    "\n",
    "    for test_session in pbar:\n",
    "            x, y = session_to_xy(test_session)\n",
    "            if x is not None:\n",
    "                loop = asyncio.get_event_loop()\n",
    "                coroutine = model.predict(x)\n",
    "                prediction = loop.run_until_complete(coroutine)\n",
    "                items_pred, item_scores = prediction['predicted_items'], prediction['scores']\n",
    "                total_cpu.append(prediction['cpu_time'])\n",
    "                total_gpu.append(prediction['gpu_time'])\n",
    "                n_treated += 1\n",
    "                if len(items_pred) > 0:\n",
    "                    selection = cp.flip(cp.argsort(item_scores)[-20:])\n",
    "                    items_rec = items_pred[selection]\n",
    "\n",
    "                    if y in items_rec:\n",
    "                        total_hits += 1\n",
    "                        hr20 = total_hits / n_treated\n",
    "                        pbar.set_postfix({'HR@20': hr20})\n",
    "\n",
    "    time_per_iter = pbar.format_dict['elapsed'] / pbar.format_dict['n']\n",
    "    print(f\"total cpu time: {sum(total_cpu)}, total GPU time: {sum(total_gpu)}\")\n",
    "\n",
    "    return time_per_iter, hr20"
   ]
  },
  {
   "cell_type": "code",
   "execution_count": null,
   "id": "f5b8c387",
   "metadata": {},
   "outputs": [
    {
     "name": "stderr",
     "output_type": "stream",
     "text": [
      "100%|██████████| 2000/2000 [00:04<00:00, 402.50it/s, HR@20=0.377]"
     ]
    },
    {
     "name": "stdout",
     "output_type": "stream",
     "text": [
      "total cpu time: 2.879850387573242, total GPU time: 0.002409696578979492\n"
     ]
    },
    {
     "name": "stderr",
     "output_type": "stream",
     "text": [
      "\n"
     ]
    }
   ],
   "source": [
    "itertime_rd, hr_rd = test_a_model(model, test_sessions_array[:2000])"
   ]
  },
  {
   "cell_type": "code",
   "execution_count": 24,
   "id": "ba9264df",
   "metadata": {},
   "outputs": [
    {
     "name": "stdout",
     "output_type": "stream",
     "text": [
      "Wed Feb 23 13:52:53 2022       \n",
      "+-----------------------------------------------------------------------------+\n",
      "| NVIDIA-SMI 450.142.00   Driver Version: 450.142.00   CUDA Version: 11.2     |\n",
      "|-------------------------------+----------------------+----------------------+\n",
      "| GPU  Name        Persistence-M| Bus-Id        Disp.A | Volatile Uncorr. ECC |\n",
      "| Fan  Temp  Perf  Pwr:Usage/Cap|         Memory-Usage | GPU-Util  Compute M. |\n",
      "|                               |                      |               MIG M. |\n",
      "|===============================+======================+======================|\n",
      "|   0  Tesla V100-SXM2...  On   | 00000000:00:1E.0 Off |                    0 |\n",
      "| N/A   42C    P0    40W / 300W |   2725MiB / 16160MiB |      0%      Default |\n",
      "|                               |                      |                  N/A |\n",
      "+-------------------------------+----------------------+----------------------+\n",
      "                                                                               \n",
      "+-----------------------------------------------------------------------------+\n",
      "| Processes:                                                                  |\n",
      "|  GPU   GI   CI        PID   Type   Process name                  GPU Memory |\n",
      "|        ID   ID                                                   Usage      |\n",
      "|=============================================================================|\n",
      "+-----------------------------------------------------------------------------+\n"
     ]
    }
   ],
   "source": [
    "!nvidia-smi"
   ]
  },
  {
   "cell_type": "code",
   "execution_count": null,
   "id": "d3894324",
   "metadata": {},
   "outputs": [],
   "source": []
  }
 ],
 "metadata": {
  "kernelspec": {
   "display_name": "Python 3 (ipykernel)",
   "language": "python",
   "name": "python3"
  },
  "language_info": {
   "codemirror_mode": {
    "name": "ipython",
    "version": 3
   },
   "file_extension": ".py",
   "mimetype": "text/x-python",
   "name": "python",
   "nbconvert_exporter": "python",
   "pygments_lexer": "ipython3",
   "version": "3.8.12"
  }
 },
 "nbformat": 4,
 "nbformat_minor": 5
}
