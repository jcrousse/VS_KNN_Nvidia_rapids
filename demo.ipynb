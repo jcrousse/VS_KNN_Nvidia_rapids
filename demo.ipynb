{
 "cells": [
  {
   "cell_type": "code",
   "execution_count": 1,
   "id": "4e275680",
   "metadata": {},
   "outputs": [],
   "source": [
    "import cudf\n",
    "import os\n",
    "import cupy as cp\n",
    "from vs_knn.vs_knn import CupyVsKnnModel\n",
    "import gc\n",
    "import time\n",
    "from tqdm import tqdm"
   ]
  },
  {
   "cell_type": "code",
   "execution_count": null,
   "id": "f5dbf284",
   "metadata": {},
   "outputs": [],
   "source": []
  },
  {
   "cell_type": "markdown",
   "id": "41a2b4f2",
   "metadata": {},
   "source": [
    "## Dataset: RSC15 \"*Yoochoose*\" data\n",
    "We are going to illustrate the algorithm on the public *RSC15* e-commerce dataset, as it is one of the largest publicly available"
   ]
  },
  {
   "cell_type": "code",
   "execution_count": 2,
   "id": "2c868c8e",
   "metadata": {},
   "outputs": [],
   "source": [
    "dataset_filepath = 'archive/yoochoose-clicks.dat'"
   ]
  },
  {
   "cell_type": "code",
   "execution_count": 3,
   "id": "ac8b1eb1",
   "metadata": {},
   "outputs": [],
   "source": [
    "yoochoose_data = cudf.read_csv(dataset_filepath, \n",
    "                               usecols=[0, 1, 2], \n",
    "                               dtype={\n",
    "                                 'session_id': cp.dtype('int32'),\n",
    "                                 'item_id': cp.dtype('int32'),\n",
    "                                 'timestamp': cp.dtype('O')\n",
    "                                 },\n",
    "                               names=['session_id', 'timestamp', 'item_id'])\n"
   ]
  },
  {
   "cell_type": "code",
   "execution_count": 4,
   "id": "38dbc467",
   "metadata": {},
   "outputs": [
    {
     "name": "stdout",
     "output_type": "stream",
     "text": [
      "the dataset contains 33M rows,  with 9M  sessions and 53K items \n",
      "Original file size: 1487Mb\n"
     ]
    }
   ],
   "source": [
    "n_rows = yoochoose_data.shape[0]\n",
    "n_sessions = len(yoochoose_data['session_id'].unique())\n",
    "n_items = len(yoochoose_data['item_id'].unique())\n",
    "filesize = os.path.getsize(dataset_filepath)\n",
    "\n",
    "print(f\"the dataset contains {round(n_rows / 10 ** 6)}M rows, \", \n",
    "      f\"with {round(n_sessions / 10 ** 6)}M \", \n",
    "      f\"sessions and {round(n_items / 10 ** 3)}K items\",\n",
    "      f\"\\nOriginal file size: {round(filesize / 10 ** 6)}Mb\")"
   ]
  },
  {
   "cell_type": "markdown",
   "id": "e7a54028",
   "metadata": {
    "pycharm": {
     "name": "#%% md\n"
    }
   },
   "source": [
    "## Data Format\n",
    "Internally, the model keeps various arrays of values per `item_id` and `session_id`. It uses integer values between 1 and *N_items* to represent `item_id` (between 1 and *N_sessions* to represent`session_id`).\n",
    "The conversion from original `item_id` and `session_id` in the dataset to integers is handled automatically.\n",
    " Note that it offers superior performances when converting integers rather than strings.\n",
    "It is therefore recommended to use integers for `item_id` and `session_id` in your dataset.\n"
   ]
  },
  {
   "cell_type": "markdown",
   "id": "3e548c0b",
   "metadata": {},
   "source": [
    "## Train test split\n",
    "The dataset covers 183 days, we will use the first 180 days as train set, and the remaining 3 days as test set"
   ]
  },
  {
   "cell_type": "code",
   "execution_count": 5,
   "id": "9c8fbb57",
   "metadata": {},
   "outputs": [],
   "source": [
    "yoochoose_data['day'] = yoochoose_data['timestamp'].str.slice(start=0, stop=10)"
   ]
  },
  {
   "cell_type": "code",
   "execution_count": 6,
   "id": "3c7da77d",
   "metadata": {},
   "outputs": [
    {
     "name": "stdout",
     "output_type": "stream",
     "text": [
      "0      2014-04-01\n",
      "1      2014-04-02\n",
      "2      2014-04-03\n",
      "3      2014-04-04\n",
      "4      2014-04-05\n",
      "          ...    \n",
      "178    2014-09-26\n",
      "179    2014-09-27\n",
      "180    2014-09-28\n",
      "181    2014-09-29\n",
      "182    2014-09-30\n",
      "Name: day, Length: 183, dtype: object\n"
     ]
    }
   ],
   "source": [
    "all_days = yoochoose_data['day'].unique()\n",
    "train_days = all_days[0:180]\n",
    "print(all_days)"
   ]
  },
  {
   "cell_type": "code",
   "execution_count": 7,
   "id": "f2c4a0ed",
   "metadata": {},
   "outputs": [],
   "source": [
    "train_df = yoochoose_data[yoochoose_data['day'].isin(train_days)][['session_id', 'timestamp', 'item_id']]\n",
    "test_df = yoochoose_data[~yoochoose_data['day'].isin(train_days)][['session_id', 'timestamp', 'item_id']]"
   ]
  },
  {
   "cell_type": "code",
   "execution_count": 8,
   "id": "c69175e7",
   "metadata": {},
   "outputs": [
    {
     "data": {
      "text/plain": [
       "53"
      ]
     },
     "execution_count": 8,
     "metadata": {},
     "output_type": "execute_result"
    }
   ],
   "source": [
    "del yoochoose_data\n",
    "gc.collect()"
   ]
  },
  {
   "cell_type": "code",
   "execution_count": null,
   "id": "2ff379a2",
   "metadata": {},
   "outputs": [],
   "source": []
  },
  {
   "cell_type": "markdown",
   "id": "662620e2",
   "metadata": {},
   "source": [
    "## Model train\n",
    "training the model"
   ]
  },
  {
   "cell_type": "code",
   "execution_count": 9,
   "id": "eed94b4e",
   "metadata": {},
   "outputs": [],
   "source": [
    "model = CupyVsKnnModel(top_k=100, max_sessions_per_items=5000, max_item_per_session=10)"
   ]
  },
  {
   "cell_type": "code",
   "execution_count": 10,
   "id": "a5661752",
   "metadata": {},
   "outputs": [
    {
     "name": "stdout",
     "output_type": "stream",
     "text": [
      "Device memory footprint for index objects: 202.93 Mb)\n",
      "trained the model in 7.205634355545044 seconds\n"
     ]
    }
   ],
   "source": [
    "start = time.time()\n",
    "\n",
    "model.train(train_df)\n",
    "\n",
    "end = time.time()\n",
    "print(f\"trained the model in {end - start} seconds\")"
   ]
  },
  {
   "cell_type": "markdown",
   "id": "8b5a3d97",
   "metadata": {},
   "source": [
    "## Testing the model \n",
    "- set last element of each test session to the target\n",
    "- Run the model for each test session\n",
    "- Calculate HR@20 per session"
   ]
  },
  {
   "cell_type": "code",
   "execution_count": 11,
   "id": "ae2f81d0",
   "metadata": {},
   "outputs": [],
   "source": [
    "# removing test items that are unseen at train\n",
    "# items_train = set(train_data['item_id'].unique())\n",
    "# test_df = test_df[test_df['item_id'].isin(items_train)]"
   ]
  },
  {
   "cell_type": "code",
   "execution_count": 12,
   "id": "1fb6b82d",
   "metadata": {},
   "outputs": [],
   "source": [
    "def get_test_examples(test_set):\n",
    "    test_array = test_set \\\n",
    "        .drop('timestamp', axis=1) \\\n",
    "        .groupby('session_id') \\\n",
    "        .agg({'item_id': 'collect'})['item_id']\\\n",
    "        .to_pandas()\\\n",
    "        .values\n",
    "    return test_array"
   ]
  },
  {
   "cell_type": "code",
   "execution_count": 13,
   "id": "63f2828a",
   "metadata": {},
   "outputs": [],
   "source": [
    "test_sessions_array = get_test_examples(test_df)"
   ]
  },
  {
   "cell_type": "code",
   "execution_count": 14,
   "id": "2d1971d4",
   "metadata": {},
   "outputs": [],
   "source": [
    "def session_to_xy(items_in_session):\n",
    "    return (items_in_session[0:-1], items_in_session[-1]) if len(items_in_session) > 1 else (None, None)"
   ]
  },
  {
   "cell_type": "code",
   "execution_count": 15,
   "id": "aebe8299",
   "metadata": {},
   "outputs": [],
   "source": [
    "def test_a_model(model, test_data):\n",
    "    \n",
    "    total_hits = 0\n",
    "    n_treated = 0\n",
    "    hr20 = 0\n",
    "    \n",
    "    pbar = tqdm(test_data)\n",
    "\n",
    "    for test_session in pbar:\n",
    "            x, y = session_to_xy(test_session)\n",
    "            if x is not None:\n",
    "                items_pred, item_scores = model.predict(x)\n",
    "                n_treated += 1\n",
    "                if len(items_pred) > 0:\n",
    "                    selection = cp.flip(cp.argsort(item_scores)[-20:])\n",
    "                    items_rec = items_pred[selection]\n",
    "\n",
    "                    if y in items_rec:\n",
    "                        total_hits += 1\n",
    "                        hr20 = total_hits / n_treated\n",
    "                        pbar.set_postfix({'HR@20': hr20})\n",
    "\n",
    "    time_per_iter = pbar.format_dict['elapsed'] / pbar.format_dict['n']\n",
    "\n",
    "    return time_per_iter, hr20"
   ]
  },
  {
   "cell_type": "code",
   "execution_count": 16,
   "id": "f5b8c387",
   "metadata": {},
   "outputs": [
    {
     "name": "stderr",
     "output_type": "stream",
     "text": [
      "  0%|          | 3/44694 [00:03<15:51:59,  1.28s/it, HR@20=0.5]\n"
     ]
    },
    {
     "ename": "RuntimeError",
     "evalue": "transform: failed to synchronize: cudaErrorIllegalAddress: an illegal memory access was encountered",
     "output_type": "error",
     "traceback": [
      "\u001B[0;31m---------------------------------------------------------------------------\u001B[0m",
      "\u001B[0;31mRuntimeError\u001B[0m                              Traceback (most recent call last)",
      "\u001B[0;32m<ipython-input-16-e5ab909e09cb>\u001B[0m in \u001B[0;36m<module>\u001B[0;34m\u001B[0m\n\u001B[0;32m----> 1\u001B[0;31m \u001B[0mitertime_rd\u001B[0m\u001B[0;34m,\u001B[0m \u001B[0mhr_rd\u001B[0m \u001B[0;34m=\u001B[0m \u001B[0mtest_a_model\u001B[0m\u001B[0;34m(\u001B[0m\u001B[0mmodel\u001B[0m\u001B[0;34m,\u001B[0m \u001B[0mtest_sessions_array\u001B[0m\u001B[0;34m)\u001B[0m\u001B[0;34m\u001B[0m\u001B[0;34m\u001B[0m\u001B[0m\n\u001B[0m",
      "\u001B[0;32m<ipython-input-15-af51360e9445>\u001B[0m in \u001B[0;36mtest_a_model\u001B[0;34m(model, test_data)\u001B[0m\n\u001B[1;32m     10\u001B[0m             \u001B[0mx\u001B[0m\u001B[0;34m,\u001B[0m \u001B[0my\u001B[0m \u001B[0;34m=\u001B[0m \u001B[0msession_to_xy\u001B[0m\u001B[0;34m(\u001B[0m\u001B[0mtest_session\u001B[0m\u001B[0;34m)\u001B[0m\u001B[0;34m\u001B[0m\u001B[0;34m\u001B[0m\u001B[0m\n\u001B[1;32m     11\u001B[0m             \u001B[0;32mif\u001B[0m \u001B[0mx\u001B[0m \u001B[0;32mis\u001B[0m \u001B[0;32mnot\u001B[0m \u001B[0;32mNone\u001B[0m\u001B[0;34m:\u001B[0m\u001B[0;34m\u001B[0m\u001B[0;34m\u001B[0m\u001B[0m\n\u001B[0;32m---> 12\u001B[0;31m                 \u001B[0mitems_pred\u001B[0m\u001B[0;34m,\u001B[0m \u001B[0mitem_scores\u001B[0m \u001B[0;34m=\u001B[0m \u001B[0mmodel\u001B[0m\u001B[0;34m.\u001B[0m\u001B[0mpredict\u001B[0m\u001B[0;34m(\u001B[0m\u001B[0mx\u001B[0m\u001B[0;34m)\u001B[0m\u001B[0;34m\u001B[0m\u001B[0;34m\u001B[0m\u001B[0m\n\u001B[0m\u001B[1;32m     13\u001B[0m                 \u001B[0mn_treated\u001B[0m \u001B[0;34m+=\u001B[0m \u001B[0;36m1\u001B[0m\u001B[0;34m\u001B[0m\u001B[0;34m\u001B[0m\u001B[0m\n\u001B[1;32m     14\u001B[0m                 \u001B[0;32mif\u001B[0m \u001B[0mlen\u001B[0m\u001B[0;34m(\u001B[0m\u001B[0mitems_pred\u001B[0m\u001B[0;34m)\u001B[0m \u001B[0;34m>\u001B[0m \u001B[0;36m0\u001B[0m\u001B[0;34m:\u001B[0m\u001B[0;34m\u001B[0m\u001B[0;34m\u001B[0m\u001B[0m\n",
      "\u001B[0;32m/rapids/notebooks/host/vs_knn/vs_knn.py\u001B[0m in \u001B[0;36mpredict\u001B[0;34m(self, query_items)\u001B[0m\n\u001B[1;32m     99\u001B[0m         \u001B[0mquery_idx\u001B[0m \u001B[0;34m=\u001B[0m \u001B[0mself\u001B[0m\u001B[0;34m.\u001B[0m\u001B[0mname_map\u001B[0m\u001B[0;34m.\u001B[0m\u001B[0mname_to_idx\u001B[0m\u001B[0;34m(\u001B[0m\u001B[0mquery_items\u001B[0m\u001B[0;34m,\u001B[0m \u001B[0mITEM_ID\u001B[0m\u001B[0;34m)\u001B[0m\u001B[0;34m\u001B[0m\u001B[0;34m\u001B[0m\u001B[0m\n\u001B[1;32m    100\u001B[0m         \u001B[0;32mif\u001B[0m \u001B[0mquery_idx\u001B[0m\u001B[0;34m:\u001B[0m\u001B[0;34m\u001B[0m\u001B[0;34m\u001B[0m\u001B[0m\n\u001B[0;32m--> 101\u001B[0;31m             \u001B[0msessions\u001B[0m\u001B[0;34m,\u001B[0m \u001B[0msession_similarities\u001B[0m \u001B[0;34m=\u001B[0m \u001B[0mself\u001B[0m\u001B[0;34m.\u001B[0m\u001B[0mget_session_similarities\u001B[0m\u001B[0;34m(\u001B[0m\u001B[0mquery_idx\u001B[0m\u001B[0;34m)\u001B[0m\u001B[0;34m\u001B[0m\u001B[0;34m\u001B[0m\u001B[0m\n\u001B[0m\u001B[1;32m    102\u001B[0m             \u001B[0;32mif\u001B[0m \u001B[0mlen\u001B[0m\u001B[0;34m(\u001B[0m\u001B[0msessions\u001B[0m\u001B[0;34m)\u001B[0m \u001B[0;34m>\u001B[0m \u001B[0mself\u001B[0m\u001B[0;34m.\u001B[0m\u001B[0mtop_k\u001B[0m\u001B[0;34m:\u001B[0m\u001B[0;34m\u001B[0m\u001B[0;34m\u001B[0m\u001B[0m\n\u001B[1;32m    103\u001B[0m                 \u001B[0msessions\u001B[0m\u001B[0;34m,\u001B[0m \u001B[0msession_similarities\u001B[0m \u001B[0;34m=\u001B[0m \u001B[0mself\u001B[0m\u001B[0;34m.\u001B[0m\u001B[0mkeep_topk_sessions\u001B[0m\u001B[0;34m(\u001B[0m\u001B[0msessions\u001B[0m\u001B[0;34m,\u001B[0m \u001B[0msession_similarities\u001B[0m\u001B[0;34m)\u001B[0m\u001B[0;34m\u001B[0m\u001B[0;34m\u001B[0m\u001B[0m\n",
      "\u001B[0;32m/rapids/notebooks/host/vs_knn/vs_knn.py\u001B[0m in \u001B[0;36mget_session_similarities\u001B[0;34m(self, query)\u001B[0m\n\u001B[1;32m    119\u001B[0m         \u001B[0mvalues_array\u001B[0m \u001B[0;34m=\u001B[0m \u001B[0mself\u001B[0m\u001B[0;34m.\u001B[0m\u001B[0m_item_values\u001B[0m\u001B[0;34m\u001B[0m\u001B[0;34m\u001B[0m\u001B[0m\n\u001B[1;32m    120\u001B[0m         sessions, session_similarities = self._get_similarities(keys_array, values_array, weights,\n\u001B[0;32m--> 121\u001B[0;31m                                                                 self.max_items_per_session)\n\u001B[0m\u001B[1;32m    122\u001B[0m         \u001B[0;32mreturn\u001B[0m \u001B[0msessions\u001B[0m\u001B[0;34m,\u001B[0m \u001B[0msession_similarities\u001B[0m\u001B[0;34m\u001B[0m\u001B[0;34m\u001B[0m\u001B[0m\n\u001B[1;32m    123\u001B[0m \u001B[0;34m\u001B[0m\u001B[0m\n",
      "\u001B[0;32m/rapids/notebooks/host/vs_knn/vs_knn.py\u001B[0m in \u001B[0;36m_get_similarities\u001B[0;34m(self, key_array, values_array, weights_array, n_keys)\u001B[0m\n\u001B[1;32m    135\u001B[0m     \u001B[0;32mdef\u001B[0m \u001B[0m_get_similarities\u001B[0m\u001B[0;34m(\u001B[0m\u001B[0mself\u001B[0m\u001B[0;34m,\u001B[0m \u001B[0mkey_array\u001B[0m\u001B[0;34m,\u001B[0m \u001B[0mvalues_array\u001B[0m\u001B[0;34m,\u001B[0m \u001B[0mweights_array\u001B[0m\u001B[0;34m,\u001B[0m \u001B[0mn_keys\u001B[0m\u001B[0;34m)\u001B[0m\u001B[0;34m:\u001B[0m\u001B[0;34m\u001B[0m\u001B[0;34m\u001B[0m\u001B[0m\n\u001B[1;32m    136\u001B[0m         \u001B[0mself\u001B[0m\u001B[0;34m.\u001B[0m\u001B[0m_copy_values_to_buffer\u001B[0m\u001B[0;34m(\u001B[0m\u001B[0mkey_array\u001B[0m\u001B[0;34m,\u001B[0m \u001B[0mvalues_array\u001B[0m\u001B[0;34m,\u001B[0m \u001B[0mweights_array\u001B[0m\u001B[0;34m,\u001B[0m \u001B[0mn_keys\u001B[0m\u001B[0;34m)\u001B[0m\u001B[0;34m\u001B[0m\u001B[0;34m\u001B[0m\u001B[0m\n\u001B[0;32m--> 137\u001B[0;31m         \u001B[0munique_values\u001B[0m \u001B[0;34m=\u001B[0m \u001B[0mcp\u001B[0m\u001B[0;34m.\u001B[0m\u001B[0munique\u001B[0m\u001B[0;34m(\u001B[0m\u001B[0mself\u001B[0m\u001B[0;34m.\u001B[0m\u001B[0m_values_buffer\u001B[0m\u001B[0;34m)\u001B[0m\u001B[0;34m\u001B[0m\u001B[0;34m\u001B[0m\u001B[0m\n\u001B[0m\u001B[1;32m    138\u001B[0m         \u001B[0msimilarities\u001B[0m \u001B[0;34m=\u001B[0m \u001B[0mself\u001B[0m\u001B[0;34m.\u001B[0m\u001B[0m_reduce_buffer\u001B[0m\u001B[0;34m(\u001B[0m\u001B[0munique_values\u001B[0m\u001B[0;34m)\u001B[0m\u001B[0;34m\u001B[0m\u001B[0;34m\u001B[0m\u001B[0m\n\u001B[1;32m    139\u001B[0m         \u001B[0;32mreturn\u001B[0m \u001B[0munique_values\u001B[0m\u001B[0;34m,\u001B[0m \u001B[0msimilarities\u001B[0m\u001B[0;34m\u001B[0m\u001B[0;34m\u001B[0m\u001B[0m\n",
      "\u001B[0;32m/opt/conda/envs/rapids/lib/python3.7/site-packages/cupy/_manipulation/add_remove.py\u001B[0m in \u001B[0;36munique\u001B[0;34m(ar, return_index, return_inverse, return_counts, axis)\u001B[0m\n\u001B[1;32m    177\u001B[0m         \u001B[0maux\u001B[0m \u001B[0;34m=\u001B[0m \u001B[0mar\u001B[0m\u001B[0;34m[\u001B[0m\u001B[0mperm\u001B[0m\u001B[0;34m]\u001B[0m\u001B[0;34m\u001B[0m\u001B[0;34m\u001B[0m\u001B[0m\n\u001B[1;32m    178\u001B[0m     \u001B[0;32melse\u001B[0m\u001B[0;34m:\u001B[0m\u001B[0;34m\u001B[0m\u001B[0;34m\u001B[0m\u001B[0m\n\u001B[0;32m--> 179\u001B[0;31m         \u001B[0mar\u001B[0m\u001B[0;34m.\u001B[0m\u001B[0msort\u001B[0m\u001B[0;34m(\u001B[0m\u001B[0;34m)\u001B[0m\u001B[0;34m\u001B[0m\u001B[0;34m\u001B[0m\u001B[0m\n\u001B[0m\u001B[1;32m    180\u001B[0m         \u001B[0maux\u001B[0m \u001B[0;34m=\u001B[0m \u001B[0mar\u001B[0m\u001B[0;34m\u001B[0m\u001B[0;34m\u001B[0m\u001B[0m\n\u001B[1;32m    181\u001B[0m     \u001B[0mmask\u001B[0m \u001B[0;34m=\u001B[0m \u001B[0mcupy\u001B[0m\u001B[0;34m.\u001B[0m\u001B[0mempty\u001B[0m\u001B[0;34m(\u001B[0m\u001B[0maux\u001B[0m\u001B[0;34m.\u001B[0m\u001B[0mshape\u001B[0m\u001B[0;34m,\u001B[0m \u001B[0mdtype\u001B[0m\u001B[0;34m=\u001B[0m\u001B[0mcupy\u001B[0m\u001B[0;34m.\u001B[0m\u001B[0mbool_\u001B[0m\u001B[0;34m)\u001B[0m\u001B[0;34m\u001B[0m\u001B[0;34m\u001B[0m\u001B[0m\n",
      "\u001B[0;32mcupy/_core/core.pyx\u001B[0m in \u001B[0;36mcupy._core.core.ndarray.sort\u001B[0;34m()\u001B[0m\n",
      "\u001B[0;32mcupy/_core/core.pyx\u001B[0m in \u001B[0;36mcupy._core.core.ndarray.sort\u001B[0;34m()\u001B[0m\n",
      "\u001B[0;32mcupy/_core/_routines_sorting.pyx\u001B[0m in \u001B[0;36mcupy._core._routines_sorting._ndarray_sort\u001B[0;34m()\u001B[0m\n",
      "\u001B[0;32mcupy/cuda/thrust.pyx\u001B[0m in \u001B[0;36mcupy.cuda.thrust.sort\u001B[0;34m()\u001B[0m\n",
      "\u001B[0;31mRuntimeError\u001B[0m: transform: failed to synchronize: cudaErrorIllegalAddress: an illegal memory access was encountered"
     ]
    }
   ],
   "source": [
    "itertime_rd, hr_rd = test_a_model(model, test_sessions_array)"
   ]
  },
  {
   "cell_type": "code",
   "execution_count": null,
   "id": "ba9264df",
   "metadata": {},
   "outputs": [],
   "source": []
  },
  {
   "cell_type": "code",
   "execution_count": null,
   "id": "d3894324",
   "metadata": {},
   "outputs": [],
   "source": []
  }
 ],
 "metadata": {
  "kernelspec": {
   "display_name": "Python 3",
   "language": "python",
   "name": "python3"
  },
  "language_info": {
   "codemirror_mode": {
    "name": "ipython",
    "version": 3
   },
   "file_extension": ".py",
   "mimetype": "text/x-python",
   "name": "python",
   "nbconvert_exporter": "python",
   "pygments_lexer": "ipython3",
   "version": "3.7.12"
  }
 },
 "nbformat": 4,
 "nbformat_minor": 5
}