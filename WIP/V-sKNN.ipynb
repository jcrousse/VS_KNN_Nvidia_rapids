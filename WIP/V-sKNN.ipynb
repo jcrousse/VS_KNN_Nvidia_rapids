{
 "cells": [
  {
   "cell_type": "markdown",
   "id": "e4fcc6e6-eb51-41ed-9f66-efcb99162f00",
   "metadata": {},
   "source": [
    "# V-sKNN with CuPy\n",
    "This notebook was tested on the `rapidsai/rapidsai:cuda11.2-runtime-ubuntu18.04-py3.7` image, with a `Tesla V100` GPU.  \n",
    "You need to clone https://github.com/jcrousse/VS_KNN_Nvidia_rapids to be able to import all the functions"
   ]
  },
  {
   "cell_type": "code",
   "execution_count": 1,
   "id": "84a4d1e5-241d-4fb3-b8f7-271a03041239",
   "metadata": {},
   "outputs": [
    {
     "name": "stdout",
     "output_type": "stream",
     "text": [
      "Collecting wget\n",
      "  Downloading wget-3.2.zip (10 kB)\n",
      "  Preparing metadata (setup.py) ... \u001b[?25ldone\n",
      "\u001b[?25hBuilding wheels for collected packages: wget\n",
      "  Building wheel for wget (setup.py) ... \u001b[?25ldone\n",
      "\u001b[?25h  Created wheel for wget: filename=wget-3.2-py3-none-any.whl size=9672 sha256=0b245316edb1720ef837c704bc08a31318ab0c19ae3a466d934d4948ca1c9eb2\n",
      "  Stored in directory: /root/.cache/pip/wheels/a1/b6/7c/0e63e34eb06634181c63adacca38b79ff8f35c37e3c13e3c02\n",
      "Successfully built wget\n",
      "Installing collected packages: wget\n",
      "Successfully installed wget-3.2\n",
      "\u001b[33mWARNING: Running pip as the 'root' user can result in broken permissions and conflicting behaviour with the system package manager. It is recommended to use a virtual environment instead: https://pip.pypa.io/warnings/venv\u001b[0m\n"
     ]
    }
   ],
   "source": [
    "!pip install wget  # wget missing from the docker image"
   ]
  },
  {
   "cell_type": "code",
   "execution_count": 2,
   "id": "6b6be975-fca6-4a7f-af23-2f3a9690a5cf",
   "metadata": {},
   "outputs": [],
   "source": [
    "import argparse\n",
    "import json\n",
    "import numpy as np\n",
    "import cupy as cp\n",
    "import cudf\n",
    "import pandas as pd\n",
    "from cupyx.time import repeat\n",
    "from vs_knn import CupyVsKnnModel\n",
    "from vs_knn.train_test_split import train_test_split\n",
    "from vs_knn.preprocessing import preprocess_data\n",
    "from vs_knn.index_builder import IndexBuilder\n",
    "from vs_knn.data_read_write import read_dataset\n",
    "from vs_knn.col_names import SESSION_ID, TIMESTAMP, ITEM_ID\n",
    "from tqdm import tqdm"
   ]
  },
  {
   "cell_type": "code",
   "execution_count": 3,
   "id": "e6ea4a1e-bf6b-4e47-af76-e1c692b762ba",
   "metadata": {},
   "outputs": [
    {
     "data": {
      "text/plain": [
       "'21.12.01'"
      ]
     },
     "execution_count": 3,
     "metadata": {},
     "output_type": "execute_result"
    }
   ],
   "source": [
    "# version > 18 required\n",
    "cudf.__version__"
   ]
  },
  {
   "cell_type": "code",
   "execution_count": 4,
   "id": "60cce12e-b804-4dc1-a098-e516362ade3b",
   "metadata": {},
   "outputs": [],
   "source": [
    "MAX_SESSIONS = None  # use fixed value (such as 10 ** 6) to save memory and time for development"
   ]
  },
  {
   "cell_type": "markdown",
   "id": "12cebed2-1588-4522-9b9f-06fc7694d535",
   "metadata": {},
   "source": [
    "## Create indices\n",
    "V-sKNN requires two indices:\n",
    "* `session_to_items`: For N >= 1 `session_id`, returns a CuPy array where the element in position *(i, j)* column contains the j-th item in the i-th input session \n",
    "* `item_to_sessions`: For one or more `item_id`, returns a CuPy array where the element in position *(i, j)* column contains the j-th session in the i-th input item \n",
    "Any python object that satisfies this property can be used.  \n",
    "By default the indices are large CuPy matrices, but those can take a lot of the GPU's available memory.  \n",
    "Alternatively, the option to use host memory pandas arrays is also offered. This is a bit slower, but limited by host memory instead of device memory.  \n",
    "Finally, the user can also create an object as a wrapper around any key-value store (Redis, RocksDB, ....)"
   ]
  },
  {
   "cell_type": "code",
   "execution_count": 5,
   "id": "ebb1b6f5-deab-4226-ba57-4e8f36af044d",
   "metadata": {},
   "outputs": [],
   "source": [
    "def setup_vsknn_indices(project_config, train_df, max_sessions=None):\n",
    "    \"\"\" returns two key-value stores for session index and item index.\n",
    "    At the moment it is a simple pandas dataframe behind the scenes, but any object that returns\n",
    "    CuPy arrays should do\"\"\"\n",
    "    items_per_sessions, sessions_per_item = \\\n",
    "        project_config['items_per_session'], project_config['sessions_per_item']\n",
    "    train_dataset_path = project_config['data_sources']['train_data']\n",
    "\n",
    "    index_builder = IndexBuilder(items_per_sessions, sessions_per_item)\n",
    "    index_builder.create_indices(train_df, max_sessions=max_sessions)\n",
    "\n",
    "\n",
    "    session_index = index_builder.get_df_index('session', 'pandas')\n",
    "    item_index = index_builder.get_df_index('item', 'pandas')\n",
    "    \n",
    "    return session_index, item_index"
   ]
  },
  {
   "cell_type": "markdown",
   "id": "6bc44b4b-4e31-4bfc-982c-8962335638a4",
   "metadata": {},
   "source": [
    "## Load project parameters\n",
    "See/edit `config.json`"
   ]
  },
  {
   "cell_type": "code",
   "execution_count": 6,
   "id": "78127446-97eb-4b98-a963-2cbc57bca114",
   "metadata": {},
   "outputs": [],
   "source": [
    "with open('config.json', 'r') as f:\n",
    "    project_config = json.load(f)"
   ]
  },
  {
   "cell_type": "markdown",
   "id": "d35ddd90-0c14-4818-98bb-242385e46fbd",
   "metadata": {},
   "source": [
    "# Download pre-processed dataset\n",
    "From personal google cloud bucket.  \n",
    "This is the youchoose dataset, where the first 180 days are taken as training set, and the remaining 3 days as test set.  \n"
   ]
  },
  {
   "cell_type": "code",
   "execution_count": 7,
   "id": "ec3fff3b-41cc-4112-b93f-3390b8db71a7",
   "metadata": {},
   "outputs": [],
   "source": [
    "train_set = read_dataset('train_data', project_config, 'cudf')\n",
    "test_set = read_dataset('test_data', project_config, 'cudf')"
   ]
  },
  {
   "cell_type": "markdown",
   "id": "4535231d-f713-4b3e-b7bd-72c356f6781a",
   "metadata": {
    "tags": []
   },
   "source": [
    "# Utility functions:\n",
    "Function: \n",
    "* `get_test_examples` to get an array of test examples (session_ids from test set)\n",
    "* `session_to_xy` takes the last item of the session as target value y, and the other items as input session\n",
    "* `test_a_model` run a model predict function on each element of the test set session by session. Monitors time taken and HR@20"
   ]
  },
  {
   "cell_type": "code",
   "execution_count": 8,
   "id": "f12b382e-e633-4b86-9c46-ebca2905c886",
   "metadata": {},
   "outputs": [],
   "source": [
    "def get_test_examples(test_set):\n",
    "    test_array = test_set \\\n",
    "        .drop(TIMESTAMP, axis=1) \\\n",
    "        .groupby(SESSION_ID) \\\n",
    "        .agg({ITEM_ID: 'collect'})[ITEM_ID]\\\n",
    "        .to_pandas()\\\n",
    "        .values\n",
    "    return test_array"
   ]
  },
  {
   "cell_type": "code",
   "execution_count": 9,
   "id": "797cc31b-2a15-48a4-97e6-07e0ec960442",
   "metadata": {},
   "outputs": [],
   "source": [
    "test_sessions_array = get_test_examples(test_set)"
   ]
  },
  {
   "cell_type": "code",
   "execution_count": 10,
   "id": "2e5458ea-3ba2-4528-a077-7a2403cd1c37",
   "metadata": {},
   "outputs": [],
   "source": [
    "def session_to_xy(items_in_session):\n",
    "    return (items_in_session[0:-1], items_in_session[-1]) if len(items_in_session) > 1 else (None, None)"
   ]
  },
  {
   "cell_type": "code",
   "execution_count": 11,
   "id": "20f39b0a-54a3-47fb-971a-3cd05f0a974e",
   "metadata": {},
   "outputs": [],
   "source": [
    "def test_a_model(model, test_data):\n",
    "    total_hits = 0\n",
    "    \n",
    "    pbar = tqdm(test_data)\n",
    "    hr20 = 0\n",
    "    for n_treated, test_session in enumerate(pbar):\n",
    "            x, y = session_to_xy(test_session)\n",
    "            if x is not None:\n",
    "\n",
    "                items_pred, item_scores = model.predict(x)\n",
    "                selection = cp.flip(cp.argsort(item_scores)[-20:])\n",
    "                items_rec = items_pred[selection]\n",
    "                \n",
    "                if y in items_rec:\n",
    "                    total_hits += 1\n",
    "                    hr20 = total_hits / n_treated\n",
    "                    pbar.set_postfix({'HR@20': hr20})\n",
    "\n",
    "    time_per_iter = pbar.format_dict['elapsed'] / pbar.format_dict['n']\n",
    "\n",
    "    return time_per_iter, hr20\n"
   ]
  },
  {
   "cell_type": "markdown",
   "id": "2da46fc7-9bf4-455d-a2a2-1f38a1c7b14e",
   "metadata": {},
   "source": [
    "# Baseline: Identity model\n",
    "This already gives us an idea of the theoritical max speed of the test function, plus also a performance baseline for predictions.  \n",
    "With this 'model', the input session is returned as output predicted items, with linearly increasing scores.  \n",
    "Performances are already better than random, as there are good chances that a user interracts with an item that is already in the current session.  "
   ]
  },
  {
   "cell_type": "code",
   "execution_count": 12,
   "id": "04186160-8a02-4011-92ee-47dac792f9fb",
   "metadata": {},
   "outputs": [],
   "source": [
    "class IdentityModel:\n",
    "    def predict(self, x):\n",
    "        return cp.array(x), cp.arange(len(x))"
   ]
  },
  {
   "cell_type": "code",
   "execution_count": 13,
   "id": "29e1f0a0-67f2-48d9-8cd2-96a851427e40",
   "metadata": {},
   "outputs": [],
   "source": [
    "indentity_model = IdentityModel()"
   ]
  },
  {
   "cell_type": "code",
   "execution_count": 14,
   "id": "30a497bf-9286-4f8d-ad1d-40adbbb36de4",
   "metadata": {},
   "outputs": [
    {
     "name": "stderr",
     "output_type": "stream",
     "text": [
      "100%|██████████| 53321/53321 [00:48<00:00, 1106.16it/s, HR@20=0.236]\n"
     ]
    }
   ],
   "source": [
    "itertime_id, hr_id = test_a_model(indentity_model, test_sessions_array)"
   ]
  },
  {
   "cell_type": "code",
   "execution_count": 15,
   "id": "24050cf7-e03e-4e99-a025-1f748babbab4",
   "metadata": {},
   "outputs": [
    {
     "name": "stdout",
     "output_type": "stream",
     "text": [
      "0.9040357435154934 miliseconds per request\n"
     ]
    }
   ],
   "source": [
    "print(f\"{itertime_id * 1000} miliseconds per request\")"
   ]
  },
  {
   "cell_type": "markdown",
   "id": "4500adfd-ae93-4108-86df-7c00f901c861",
   "metadata": {},
   "source": [
    "# V-sKNN with a Pandas DataFrame as item and session indices\n",
    "In this experiment, we use pandas dataframes as session and item indices"
   ]
  },
  {
   "cell_type": "code",
   "execution_count": 49,
   "id": "358f2977-2d62-4ead-8fc4-47954f8b1927",
   "metadata": {},
   "outputs": [],
   "source": [
    "session_to_items_pd, item_to_sessions_pd = setup_vsknn_indices(project_config, train_set, MAX_SESSIONS)"
   ]
  },
  {
   "cell_type": "code",
   "execution_count": 50,
   "id": "118aa0e9-1d11-4b09-9140-11f79aa0b447",
   "metadata": {},
   "outputs": [],
   "source": [
    "model_pd = CupyVsKnnModel(item_to_sessions_pd, session_to_items_pd, top_k=project_config['top_k'])"
   ]
  },
  {
   "cell_type": "code",
   "execution_count": 51,
   "id": "8dae8d00-03e2-42ef-a8df-53d9d978fd37",
   "metadata": {},
   "outputs": [
    {
     "name": "stderr",
     "output_type": "stream",
     "text": [
      "100%|██████████| 53321/53321 [05:31<00:00, 160.88it/s, HR@20=0.327]\n"
     ]
    }
   ],
   "source": [
    "itertime_pd, hr_pd = test_a_model(model_pd, test_sessions_array)"
   ]
  },
  {
   "cell_type": "code",
   "execution_count": 52,
   "id": "5b349042-a877-4bb3-a575-45b184209120",
   "metadata": {},
   "outputs": [
    {
     "name": "stdout",
     "output_type": "stream",
     "text": [
      "6.215756238306126 miliseconds per request\n"
     ]
    }
   ],
   "source": [
    "print(f\"{itertime_pd * 1000} miliseconds per request\")"
   ]
  },
  {
   "cell_type": "code",
   "execution_count": null,
   "id": "97f5d15e-2ba1-4196-b346-0a8d6c359aa8",
   "metadata": {},
   "outputs": [],
   "source": []
  },
  {
   "cell_type": "markdown",
   "id": "47aafb26-bdb5-4b35-92e8-89e92e43b585",
   "metadata": {},
   "source": [
    "# How fast would it be if we generated random CuPy arrays instead of reading from an index?\n",
    "Goal is to see how fast the algorithm goes and compare different approaches"
   ]
  },
  {
   "cell_type": "code",
   "execution_count": 53,
   "id": "1587aca2-1394-42c1-b81a-ecddf89062ed",
   "metadata": {},
   "outputs": [],
   "source": [
    "class RandomIndex:\n",
    "    def __init__(self, width):\n",
    "        self.width = width\n",
    "    def __getitem__(self, item):\n",
    "        return cp.random.randint(0, 1000, (len(item), self.width))"
   ]
  },
  {
   "cell_type": "code",
   "execution_count": 54,
   "id": "0277482b-6ab0-43ee-aad4-f85d1e4d595f",
   "metadata": {},
   "outputs": [],
   "source": [
    "session_to_items_rd = RandomIndex(project_config['items_per_session'])\n",
    "item_to_sessions_rd = RandomIndex(project_config['sessions_per_item'])"
   ]
  },
  {
   "cell_type": "code",
   "execution_count": 55,
   "id": "af0101fd-a894-410d-ab7e-cdff27520424",
   "metadata": {},
   "outputs": [],
   "source": [
    "model_rd = CupyVsKnnModel(item_to_sessions_rd, session_to_items_rd, top_k=project_config['top_k'])"
   ]
  },
  {
   "cell_type": "code",
   "execution_count": 58,
   "id": "8bd1c43d-58d0-4051-8d0f-bb45c8199b64",
   "metadata": {},
   "outputs": [
    {
     "name": "stderr",
     "output_type": "stream",
     "text": [
      "100%|██████████| 53321/53321 [04:26<00:00, 199.71it/s, HR@20=0.0014]  \n"
     ]
    }
   ],
   "source": [
    "itertime_rd, hr_rd = test_a_model(model_rd, test_sessions_array)"
   ]
  },
  {
   "cell_type": "code",
   "execution_count": 59,
   "id": "c3d9c406-881c-4c66-94a0-b9a743ea7e5b",
   "metadata": {},
   "outputs": [
    {
     "name": "stdout",
     "output_type": "stream",
     "text": [
      "5.007278038134075 miliseconds per request\n"
     ]
    }
   ],
   "source": [
    "print(f\"{itertime_rd * 1000} miliseconds per request\")"
   ]
  },
  {
   "cell_type": "markdown",
   "id": "1605e9d4-5453-4d6e-9416-042bcbd3eb50",
   "metadata": {},
   "source": [
    "# How fast would it be if the values were already on the device?\n",
    "This time the index selects slices of randomly generated static CuPy arrays that are already on the device.  \n",
    "Contrary to the \"random index\" above, they are generated only once."
   ]
  },
  {
   "cell_type": "code",
   "execution_count": 16,
   "id": "0f93c658-95e9-4745-9b73-4a1db63fbdef",
   "metadata": {},
   "outputs": [],
   "source": [
    "session_to_items_sample, item_to_sessions_sample = setup_vsknn_indices(project_config, train_set, 10000)"
   ]
  },
  {
   "cell_type": "code",
   "execution_count": 22,
   "id": "e8399776-8da7-4524-9529-bed8d1e02566",
   "metadata": {},
   "outputs": [
    {
     "name": "stdout",
     "output_type": "stream",
     "text": [
      "Percentage of zero values in session index: 0.7210821082108211\n",
      "Percentage of zero values in item index: 0.9809150117953761\n"
     ]
    }
   ],
   "source": [
    "zero_pct_session = (session_to_items_sample.index_df == 0).sum().sum() / (session_to_items_sample.index_df.shape[0] * session_to_items_sample.index_df.shape[1])\n",
    "zero_pct_items = (item_to_sessions_sample.index_df == 0).sum().sum() / (item_to_sessions_sample.index_df.shape[0] * item_to_sessions_sample.index_df.shape[1])\n",
    "\n",
    "print(f\"Percentage of zero values in session index: {zero_pct_session}\")\n",
    "print(f\"Percentage of zero values in item index: {zero_pct_items}\")"
   ]
  },
  {
   "cell_type": "code",
   "execution_count": 29,
   "id": "09df9a8f-135d-4336-b19a-b5882532252c",
   "metadata": {},
   "outputs": [],
   "source": [
    "class StaticDeviceIndex:\n",
    "    def __init__(self, width, zero_pct=0.5):\n",
    "        self.width = width\n",
    "        zero_mask = (cp.random.random((10000, self.width)) < zero_pct)\n",
    "        self.return_value = cp.random.randint(0, 1000, (10000, self.width)) * zero_mask\n",
    "    def __getitem__(self, item):\n",
    "        return self.return_value[0:len(item), :]"
   ]
  },
  {
   "cell_type": "code",
   "execution_count": 30,
   "id": "6a73d994-3ad9-4aa9-9828-563a36caef2f",
   "metadata": {},
   "outputs": [],
   "source": [
    "session_to_items_st = StaticDeviceIndex(project_config['items_per_session'], zero_pct_session)\n",
    "item_to_sessions_st = StaticDeviceIndex(project_config['sessions_per_item'], zero_pct_items)"
   ]
  },
  {
   "cell_type": "code",
   "execution_count": 31,
   "id": "cb798b72-fbd3-4c88-841a-705106bcbd8e",
   "metadata": {},
   "outputs": [],
   "source": [
    "model_st = CupyVsKnnModel(item_to_sessions_st, session_to_items_st, top_k=project_config['top_k'])"
   ]
  },
  {
   "cell_type": "code",
   "execution_count": 32,
   "id": "14465672-689d-49e7-9b01-38adef8b9575",
   "metadata": {},
   "outputs": [
    {
     "name": "stderr",
     "output_type": "stream",
     "text": [
      "100%|██████████| 53321/53321 [03:39<00:00, 242.62it/s, HR@20=0.000549]\n"
     ]
    }
   ],
   "source": [
    "itertime_st, hr_st = test_a_model(model_st, test_sessions_array)"
   ]
  },
  {
   "cell_type": "code",
   "execution_count": 33,
   "id": "7711b218-020e-4267-a279-1aae73b3809a",
   "metadata": {},
   "outputs": [
    {
     "name": "stdout",
     "output_type": "stream",
     "text": [
      "4.12166948286824 miliseconds per request\n"
     ]
    }
   ],
   "source": [
    "print(f\"{itertime_st * 1000} miliseconds per request\")"
   ]
  },
  {
   "cell_type": "code",
   "execution_count": null,
   "id": "d1e72937-47a9-457e-98c1-3d68c3b70c91",
   "metadata": {},
   "outputs": [],
   "source": []
  },
  {
   "cell_type": "code",
   "execution_count": null,
   "id": "161f49b7-954d-4562-9e88-2e0f45d0aef1",
   "metadata": {},
   "outputs": [],
   "source": []
  },
  {
   "cell_type": "code",
   "execution_count": 34,
   "id": "519fad38-2ac5-44f0-b207-fef732be536d",
   "metadata": {},
   "outputs": [],
   "source": [
    "import matplotlib.pyplot as plt\n",
    "%matplotlib inline"
   ]
  },
  {
   "cell_type": "code",
   "execution_count": 63,
   "id": "b563a03b-9e0f-4f17-95ef-ad4920ff538d",
   "metadata": {},
   "outputs": [
    {
     "data": {
      "image/png": "[encoded data removed]",
      "text/plain": [
       "<Figure size 432x288 with 1 Axes>"
      ]
     },
     "metadata": {
      "needs_background": "light"
     },
     "output_type": "display_data"
    }
   ],
   "source": [
    "time_values = [itertime_id, itertime_pd, itertime_rd,  itertime_st]\n",
    "label_values = [\"identity model\", \"Pandas indices\", \"Random arrays\", \"Device arrays\"]\n",
    "\n",
    "time_miliseconds = [e * 1000 for e in time_values]\n",
    "\n",
    "plt.bar(label_values, time_miliseconds)\n",
    "plt.xlabel(\"method for getting index data\")\n",
    "plt.ylabel(\"Miliseconds per iteration\")\n",
    "plt.title(\"Average iteration time per indexing method\")\n",
    "plt.show()"
   ]
  },
  {
   "cell_type": "markdown",
   "id": "60023615-315b-4339-b3bd-142661a87bb5",
   "metadata": {},
   "source": [
    "# Conclusions & Next steps\n",
    "\n",
    "While the method chosen for indices does impact the model response time, it seem that there is little gain to obta"
   ]
  },
  {
   "cell_type": "code",
   "execution_count": null,
   "id": "66647a52-72b2-4d9c-9edc-54800b76afef",
   "metadata": {},
   "outputs": [],
   "source": []
  }
 ],
 "metadata": {
  "kernelspec": {
   "display_name": "Python 3 (ipykernel)",
   "language": "python",
   "name": "python3"
  },
  "language_info": {
   "codemirror_mode": {
    "name": "ipython",
    "version": 3
   },
   "file_extension": ".py",
   "mimetype": "text/x-python",
   "name": "python",
   "nbconvert_exporter": "python",
   "pygments_lexer": "ipython3",
   "version": "3.8.12"
  }
 },
 "nbformat": 4,
 "nbformat_minor": 5
}
